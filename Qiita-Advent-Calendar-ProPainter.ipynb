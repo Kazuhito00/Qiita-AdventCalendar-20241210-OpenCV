{
  "nbformat": 4,
  "nbformat_minor": 0,
  "metadata": {
    "colab": {
      "provenance": [],
      "gpuType": "A100",
      "machine_shape": "hm"
    },
    "kernelspec": {
      "name": "python3",
      "display_name": "Python 3"
    },
    "language_info": {
      "name": "python"
    },
    "accelerator": "GPU"
  },
  "cells": [
    {
      "cell_type": "markdown",
      "source": [
        "# パッケージインストール"
      ],
      "metadata": {
        "id": "lgqhtv-77st_"
      }
    },
    {
      "cell_type": "code",
      "execution_count": 1,
      "metadata": {
        "id": "W5cUOYQE5JrC",
        "outputId": "71817dcc-5773-4b96-b8f6-1c8ce65753d1",
        "colab": {
          "base_uri": "https://localhost:8080/"
        }
      },
      "outputs": [
        {
          "output_type": "stream",
          "name": "stdout",
          "text": [
            "Cloning into 'ProPainter'...\n",
            "remote: Enumerating objects: 608, done.\u001b[K\n",
            "remote: Counting objects: 100% (110/110), done.\u001b[K\n",
            "remote: Compressing objects: 100% (60/60), done.\u001b[K\n",
            "remote: Total 608 (delta 65), reused 50 (delta 50), pack-reused 498 (from 1)\u001b[K\n",
            "Receiving objects: 100% (608/608), 55.20 MiB | 56.02 MiB/s, done.\n",
            "Resolving deltas: 100% (98/98), done.\n",
            "/content/ProPainter\n",
            "\u001b[2K     \u001b[90m━━━━━━━━━━━━━━━━━━━━━━━━━━━━━━━━━━━━━━━━\u001b[0m \u001b[32m46.8/46.8 kB\u001b[0m \u001b[31m2.0 MB/s\u001b[0m eta \u001b[36m0:00:00\u001b[0m\n",
            "\u001b[2K   \u001b[90m━━━━━━━━━━━━━━━━━━━━━━━━━━━━━━━━━━━━━━━━\u001b[0m \u001b[32m33.0/33.0 MB\u001b[0m \u001b[31m53.6 MB/s\u001b[0m eta \u001b[36m0:00:00\u001b[0m\n",
            "\u001b[2K   \u001b[90m━━━━━━━━━━━━━━━━━━━━━━━━━━━━━━━━━━━━━━━━\u001b[0m \u001b[32m256.2/256.2 kB\u001b[0m \u001b[31m19.3 MB/s\u001b[0m eta \u001b[36m0:00:00\u001b[0m\n",
            "\u001b[?25h"
          ]
        }
      ],
      "source": [
        "!git clone https://github.com/sczhou/ProPainter.git\n",
        "%cd ProPainter\n",
        "!pip install -q -r requirements.txt"
      ]
    },
    {
      "cell_type": "markdown",
      "source": [
        "# 重みダウンロード"
      ],
      "metadata": {
        "id": "JSQ5Ftgf7xU7"
      }
    },
    {
      "cell_type": "code",
      "source": [
        "!wget https://github.com/sczhou/ProPainter/releases/download/v0.1.0/i3d_rgb_imagenet.pt -P weights -q\n",
        "!wget https://github.com/sczhou/ProPainter/releases/download/v0.1.0/ProPainter.pth -P weights -q\n",
        "!wget https://github.com/sczhou/ProPainter/releases/download/v0.1.0/raft-things.pth -P weights -q\n",
        "!wget https://github.com/sczhou/ProPainter/releases/download/v0.1.0/recurrent_flow_completion.pth -P weights -q"
      ],
      "metadata": {
        "id": "Px6Fo90-5fd1"
      },
      "execution_count": 2,
      "outputs": []
    },
    {
      "cell_type": "markdown",
      "source": [
        "# サンプル動画ダウンロード"
      ],
      "metadata": {
        "id": "rXHMPMZ9MlhD"
      }
    },
    {
      "cell_type": "markdown",
      "source": [
        "NHKクリエイティブライブラリーの「[ドバイ（３）道路渋滞 アップ](https://www2.nhk.or.jp/archives/movies/?id=D0002050330_00000)」の後半部分を切り出して使用しています"
      ],
      "metadata": {
        "id": "end0745AS25F"
      }
    },
    {
      "cell_type": "code",
      "source": [
        "import gdown\n",
        "\n",
        "gdown.download(\n",
        "    'https://drive.google.com/uc?id=11LnrwjFAs6NQc4AU9ejrqpJ9eg85Yl_H',\n",
        "    'sample.mp4',\n",
        "    quiet=False,\n",
        ")\n",
        "gdown.download(\n",
        "    'https://drive.google.com/uc?id=1BfBOWp0u8fgTI8upFW-hK83JGMW40fbo',\n",
        "    'mask.png',\n",
        "    quiet=False,\n",
        ")"
      ],
      "metadata": {
        "colab": {
          "base_uri": "https://localhost:8080/",
          "height": 181
        },
        "id": "uEptmJv2MlRh",
        "outputId": "0579197a-3872-48dd-fd4d-00a056058647"
      },
      "execution_count": 3,
      "outputs": [
        {
          "output_type": "stream",
          "name": "stderr",
          "text": [
            "Downloading...\n",
            "From: https://drive.google.com/uc?id=11LnrwjFAs6NQc4AU9ejrqpJ9eg85Yl_H\n",
            "To: /content/ProPainter/sample.mp4\n",
            "100%|██████████| 1.23M/1.23M [00:00<00:00, 140MB/s]\n",
            "Downloading...\n",
            "From: https://drive.google.com/uc?id=1BfBOWp0u8fgTI8upFW-hK83JGMW40fbo\n",
            "To: /content/ProPainter/mask.png\n",
            "100%|██████████| 2.65k/2.65k [00:00<00:00, 2.55MB/s]\n"
          ]
        },
        {
          "output_type": "execute_result",
          "data": {
            "text/plain": [
              "'mask.png'"
            ],
            "application/vnd.google.colaboratory.intrinsic+json": {
              "type": "string"
            }
          },
          "metadata": {},
          "execution_count": 3
        }
      ]
    },
    {
      "cell_type": "code",
      "source": [
        "import os\n",
        "\n",
        "# 保存ディレクトリの作成\n",
        "frame_dir = 'inputs/test/frame'\n",
        "mask_dir = 'inputs/test/mask'\n",
        "os.makedirs(frame_dir, exist_ok=True)\n",
        "os.makedirs(mask_dir, exist_ok=True)"
      ],
      "metadata": {
        "id": "dfu_bCeTNL_g"
      },
      "execution_count": 4,
      "outputs": []
    },
    {
      "cell_type": "code",
      "source": [
        "import cv2\n",
        "from tqdm import tqdm\n",
        "\n",
        "# 動画読み込み\n",
        "cap = cv2.VideoCapture('sample.mp4')\n",
        "total_frames = int(cap.get(cv2.CAP_PROP_FRAME_COUNT))\n",
        "\n",
        "# マスク画像読み込み\n",
        "mask_image = cv2.imread(\"mask.png\")\n",
        "\n",
        "# 画像化\n",
        "frame_count = 0\n",
        "with tqdm(total=total_frames, desc=\"Processing Video\") as pbar:\n",
        "    while True:\n",
        "        ret, frame = cap.read()\n",
        "        if not ret:\n",
        "            break\n",
        "\n",
        "        # 元のサイズのままだとA100でもメモリオーバーのためリサイズ\n",
        "        frame = cv2.resize(frame, (800, 464))\n",
        "\n",
        "        height, width, _ = frame.shape\n",
        "\n",
        "        # フレームとマスク画像を保存\n",
        "        frame_name = f\"{frame_count:05d}.png\"\n",
        "        cv2.imwrite(os.path.join(frame_dir, frame_name), frame)\n",
        "        cv2.imwrite(os.path.join(mask_dir, frame_name), mask_image)\n",
        "\n",
        "        # フレームカウンターをインクリメント\n",
        "        frame_count += 1\n",
        "        pbar.update(1)\n",
        "\n",
        "    cap.release()"
      ],
      "metadata": {
        "id": "fjyFiRnlsjdD",
        "outputId": "c8c1bf5b-e71e-4d21-ca50-15c5ec8140ef",
        "colab": {
          "base_uri": "https://localhost:8080/"
        }
      },
      "execution_count": 5,
      "outputs": [
        {
          "output_type": "stream",
          "name": "stderr",
          "text": [
            "Processing Video: 100%|██████████| 698/698 [00:19<00:00, 36.10it/s]\n"
          ]
        }
      ]
    },
    {
      "cell_type": "code",
      "source": [
        "print(width, height)"
      ],
      "metadata": {
        "colab": {
          "base_uri": "https://localhost:8080/"
        },
        "id": "Zizy4tH1N9uv",
        "outputId": "6649a15c-79a1-4bfc-b9a7-8e0a281b8352"
      },
      "execution_count": 6,
      "outputs": [
        {
          "output_type": "stream",
          "name": "stdout",
          "text": [
            "800 464\n"
          ]
        }
      ]
    },
    {
      "cell_type": "code",
      "source": [
        "%%time\n",
        "\n",
        "# 画像サイズが大きいためA100必須\n",
        "!python inference_propainter.py \\\n",
        "    --width 800 --height 464 \\\n",
        "    --video inputs/test/frame \\\n",
        "    --mask inputs/test/mask"
      ],
      "metadata": {
        "id": "GrLhQgCyu-1D",
        "outputId": "12f9df8e-7167-4513-c7f0-5bcb930df08a",
        "colab": {
          "base_uri": "https://localhost:8080/"
        }
      },
      "execution_count": 8,
      "outputs": [
        {
          "output_type": "stream",
          "name": "stdout",
          "text": [
            "Pretrained flow completion model has loaded...\n",
            "Pretrained ProPainter has loaded...\n",
            "Network [InpaintGenerator] was created. Total number of parameters: 39.4 million. To see the architecture, do print(network).\n",
            "\n",
            "Processing: frame [698 frames]...\n",
            "100% 140/140 [02:00<00:00,  1.16it/s]\n",
            "\n",
            "All results are saved in results/frame\n",
            "CPU times: user 1.37 s, sys: 203 ms, total: 1.57 s\n",
            "Wall time: 4min 9s\n"
          ]
        }
      ]
    }
  ]
}